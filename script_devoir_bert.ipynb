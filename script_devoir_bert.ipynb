{
  "cells": [
    {
      "cell_type": "markdown",
      "source": [
        "# **Chargement des packages nécessaires**"
      ],
      "metadata": {
        "id": "lrhuGQff-SFJ"
      },
      "id": "lrhuGQff-SFJ"
    },
    {
      "cell_type": "code",
      "execution_count": 44,
      "id": "61159192",
      "metadata": {
        "id": "61159192"
      },
      "outputs": [],
      "source": [
        "import pandas as pd\n",
        "import numpy as np\n",
        "import re\n",
        "import seaborn as sb\n",
        "import matplotlib.pyplot as plt\n",
        "import tensorflow as tf\n",
        "from IPython.display import FileLink\n",
        "from sklearn.model_selection import train_test_split\n",
        "import torch\n",
        "import torch.nn as nn\n",
        "from transformers import AutoModel, TrainingArguments, Trainer, pipeline, AutoTokenizer, BertModel, get_scheduler, BertTokenizer\n",
        "from sklearn.metrics import accuracy_score,f1_score, confusion_matrix, classification_report\n",
        "from sklearn.preprocessing import LabelEncoder\n",
        "from torch.optim import AdamW\n",
        "from tqdm import tqdm\n",
        "from torch.utils.data import Dataset, DataLoader\n",
        "import warnings\n",
        "warnings.filterwarnings('ignore')"
      ]
    },
    {
      "cell_type": "markdown",
      "id": "96e1f60c",
      "metadata": {
        "id": "96e1f60c"
      },
      "source": [
        "# **Chargement des données et suppression des données manquantes**"
      ]
    },
    {
      "cell_type": "code",
      "execution_count": 45,
      "id": "cb96ad63",
      "metadata": {
        "id": "cb96ad63"
      },
      "outputs": [],
      "source": [
        "data =  pd.read_csv(\"/content/Corona_NLP_train.csv\",encoding=\"latin1\")"
      ]
    },
    {
      "cell_type": "markdown",
      "id": "96fdb28b",
      "metadata": {
        "id": "96fdb28b"
      },
      "source": [
        "# Exploration des données"
      ]
    },
    {
      "cell_type": "code",
      "execution_count": 46,
      "id": "58ecf15c",
      "metadata": {
        "colab": {
          "base_uri": "https://localhost:8080/"
        },
        "id": "58ecf15c",
        "outputId": "a3220afe-bf3c-4d6d-9e37-13c41b4c1d9f"
      },
      "outputs": [
        {
          "output_type": "execute_result",
          "data": {
            "text/plain": [
              "(41157, 6)"
            ]
          },
          "metadata": {},
          "execution_count": 46
        }
      ],
      "source": [
        "# Dimension du jeu de données\n",
        "data.shape"
      ]
    },
    {
      "cell_type": "markdown",
      "id": "8fb65393",
      "metadata": {
        "id": "8fb65393"
      },
      "source": [
        "C'est un jeu de données de 41157 observations et 6 variables"
      ]
    },
    {
      "cell_type": "code",
      "execution_count": 47,
      "id": "d1e70d49",
      "metadata": {
        "colab": {
          "base_uri": "https://localhost:8080/"
        },
        "id": "d1e70d49",
        "outputId": "2bcd57be-aae3-4285-9c71-264bf0557d53"
      },
      "outputs": [
        {
          "output_type": "stream",
          "name": "stdout",
          "text": [
            "<class 'pandas.core.frame.DataFrame'>\n",
            "RangeIndex: 41157 entries, 0 to 41156\n",
            "Data columns (total 6 columns):\n",
            " #   Column         Non-Null Count  Dtype \n",
            "---  ------         --------------  ----- \n",
            " 0   UserName       41157 non-null  int64 \n",
            " 1   ScreenName     41157 non-null  int64 \n",
            " 2   Location       32567 non-null  object\n",
            " 3   TweetAt        41157 non-null  object\n",
            " 4   OriginalTweet  41157 non-null  object\n",
            " 5   Sentiment      41157 non-null  object\n",
            "dtypes: int64(2), object(4)\n",
            "memory usage: 1.9+ MB\n"
          ]
        }
      ],
      "source": [
        "data.info()"
      ]
    },
    {
      "cell_type": "markdown",
      "id": "b5d770b6",
      "metadata": {
        "id": "b5d770b6"
      },
      "source": [
        "- Nous avons deux variables de type integer UserName et ScreenName; les autres sont de type objet\n",
        "- Seule la variable *Location* présente des données manquantes.\n",
        "- Nous sommes intéressés essentiellement par deux variables. Nous allons donc les sélectionner et voir s'il y a des doublons"
      ]
    },
    {
      "cell_type": "code",
      "execution_count": 48,
      "id": "05f2a1be",
      "metadata": {
        "id": "05f2a1be"
      },
      "outputs": [],
      "source": [
        "# Sélection des variables d'intérêt\n",
        "data = data[['OriginalTweet', 'Sentiment']]"
      ]
    },
    {
      "cell_type": "code",
      "execution_count": 49,
      "id": "bcdd86c9",
      "metadata": {
        "colab": {
          "base_uri": "https://localhost:8080/"
        },
        "id": "bcdd86c9",
        "outputId": "634383bb-c3cc-436a-ed5f-236bff83429b"
      },
      "outputs": [
        {
          "output_type": "execute_result",
          "data": {
            "text/plain": [
              "(0, 2)"
            ]
          },
          "metadata": {},
          "execution_count": 49
        }
      ],
      "source": [
        "# Nous allons checker pour voir s'il y a des doublons\n",
        "\n",
        "data_duplicate = data[data.duplicated(subset=['OriginalTweet', 'Sentiment'], keep=False)]\n",
        "data_duplicate.shape"
      ]
    },
    {
      "cell_type": "markdown",
      "id": "04fe405c",
      "metadata": {
        "id": "04fe405c"
      },
      "source": [
        "On note qu'il n'y a pas de données doublons."
      ]
    },
    {
      "cell_type": "code",
      "execution_count": 50,
      "id": "fe496f59",
      "metadata": {
        "id": "fe496f59"
      },
      "outputs": [],
      "source": [
        "data = data[['OriginalTweet', 'Sentiment']].dropna()"
      ]
    },
    {
      "cell_type": "markdown",
      "id": "630e9bf9",
      "metadata": {
        "id": "630e9bf9"
      },
      "source": [
        "Statistiques descriptives de la variable Sentiment"
      ]
    },
    {
      "cell_type": "code",
      "execution_count": 51,
      "id": "fccf0bda",
      "metadata": {
        "colab": {
          "base_uri": "https://localhost:8080/"
        },
        "id": "fccf0bda",
        "outputId": "23c22207-4b41-4a9e-a549-754fa679d164"
      },
      "outputs": [
        {
          "output_type": "stream",
          "name": "stdout",
          "text": [
            "Sentiment\n",
            "Positive              11422\n",
            "Negative               9917\n",
            "Neutral                7713\n",
            "Extremely Positive     6624\n",
            "Extremely Negative     5481\n",
            "Name: count, dtype: int64\n"
          ]
        }
      ],
      "source": [
        "# Afficher les classes de sentiments\n",
        "print(data['Sentiment'].value_counts())"
      ]
    },
    {
      "cell_type": "markdown",
      "id": "e87a1e64",
      "metadata": {
        "id": "e87a1e64"
      },
      "source": [
        "Encodage des étiquettes de Sentiment. Nous voulons définir l'encodage nous même de sorte à avoir :\n",
        "    'Extremely Positive' =4\n",
        "    'Positive'= 3,\n",
        "    'Neutral'= 2,\n",
        "    'Negative'= 1,\n",
        "    'Extremely Negative'=0\n"
      ]
    },
    {
      "cell_type": "code",
      "execution_count": 52,
      "id": "abd41896",
      "metadata": {
        "id": "abd41896"
      },
      "outputs": [],
      "source": [
        "\n",
        "\n",
        "label_encoder = LabelEncoder()\n",
        "data['label'] = label_encoder.fit_transform(data['Sentiment'])\n",
        "\n",
        "label_mapping = {\n",
        "    'Extremely Positive':4,\n",
        "    'Positive': 3,\n",
        "    'Neutral': 2,\n",
        "    'Negative': 1,\n",
        "    'Extremely Negative':0\n",
        "\n",
        "}\n",
        "data['label']=data.Sentiment.map(label_mapping)\n"
      ]
    },
    {
      "cell_type": "code",
      "execution_count": 53,
      "id": "824cc5cb",
      "metadata": {
        "id": "824cc5cb",
        "colab": {
          "base_uri": "https://localhost:8080/",
          "height": 447
        },
        "outputId": "1ce5796b-2fb7-496d-c912-bd0141a8b8bc"
      },
      "outputs": [
        {
          "output_type": "execute_result",
          "data": {
            "text/plain": [
              "<Axes: ylabel='Sentiment'>"
            ]
          },
          "metadata": {},
          "execution_count": 53
        },
        {
          "output_type": "display_data",
          "data": {
            "text/plain": [
              "<Figure size 640x480 with 1 Axes>"
            ],
            "image/png": "[encoded data removed]"
          },
          "metadata": {}
        }
      ],
      "source": [
        "# Représentation\n",
        "data.Sentiment.value_counts().plot(kind='barh')"
      ]
    },
    {
      "cell_type": "markdown",
      "source": [
        "Nettoyage du dataset en supprimant les etimocones, les symboles, les espaces vides, etc"
      ],
      "metadata": {
        "id": "hftQY9JTsQ6a"
      },
      "id": "hftQY9JTsQ6a"
    },
    {
      "cell_type": "code",
      "source": [
        "def convert_to_lower(text):\n",
        "    return text.lower()\n",
        "\n",
        "\n",
        "def remove_emojis(text):\n",
        "    text = re.sub(r\"(?:\\@|https?\\://)\\S+\", \"\", text) #remove links and mentions\n",
        "    text = re.sub(r\"<.*?>\",\"\",text)\n",
        "    wierd_pattern = re.compile(\"[\"\n",
        "        u\"\\U0001F600-\\U0001F64F\"  # emoticons\n",
        "        u\"\\U0001F300-\\U0001F5FF\"  # symbols & pictographs\n",
        "        u\"\\U0001F680-\\U0001F6FF\"  # transport & map symbols\n",
        "        u\"\\U0001F1E0-\\U0001F1FF\"  # flags (iOS)\n",
        "        u\"\\U00002702-\\U000027B0\"\n",
        "        u\"\\U000024C2-\\U0001F251\"\n",
        "        u\"\\U0001f926-\\U0001f937\"\n",
        "        u'\\U00010000-\\U0010ffff'\n",
        "        u\"\\u200d\"\n",
        "        u\"\\u2640-\\u2642\"\n",
        "        u\"\\u2600-\\u2B55\"\n",
        "        u\"\\u23cf\"\n",
        "        u\"\\u23e9\"\n",
        "        u\"\\u231a\"\n",
        "        u\"\\u3030\"\n",
        "        u\"\\ufe0f\"\n",
        "        u\"\\u2069\"\n",
        "        u\"\\u2066\"\n",
        "        # u\"\\u200c\"\n",
        "        u\"\\u2068\"\n",
        "        u\"\\u2067\"\n",
        "        \"]+\", flags=re.UNICODE)\n",
        "    return wierd_pattern.sub(r'', text)\n",
        "\n",
        "def remove_punctuation(text):\n",
        "            # Remove punctuation and carriage return/newline characters\n",
        "  cleaned_text = re.sub(r'[^\\w\\s]+|[\\r\\n]', '', text)\n",
        "  return cleaned_text\n",
        "\n",
        "\n",
        "def remove_extra_white_spaces(text):\n",
        "    clean_text=text.strip()\n",
        "    single_char_pattern = r'\\s+[a-zA-Z]\\s+'\n",
        "    without_sc = re.sub(pattern=single_char_pattern, repl=\" \", string=clean_text)\n",
        "    return without_sc\n",
        "\n",
        "\n",
        "def preprocessText(text):\n",
        "  return remove_extra_white_spaces(remove_punctuation(remove_emojis(convert_to_lower(text))))\n",
        "\n",
        "\n",
        "\n",
        "data['OriginalTweet'] = data['OriginalTweet'].apply(preprocessText)\n",
        "data['OriginalTweet'] = data['OriginalTweet'].apply(preprocessText)\n",
        "\n"
      ],
      "metadata": {
        "id": "-Pitpw_psWdI"
      },
      "id": "-Pitpw_psWdI",
      "execution_count": 54,
      "outputs": []
    },
    {
      "cell_type": "markdown",
      "id": "d0342286",
      "metadata": {
        "id": "d0342286"
      },
      "source": [
        "Définition de la classe"
      ]
    },
    {
      "cell_type": "code",
      "source": [
        "\n",
        "\n",
        "tokenizer = AutoTokenizer.from_pretrained(\"google-bert/bert-base-uncased\")\n",
        "\n",
        "class CustomDataset(Dataset):\n",
        "    def __init__(self, texts, labels, tokenizer, max_len=128):\n",
        "        self.texts = texts\n",
        "        self.labels = labels\n",
        "        self.tokenizer = tokenizer\n",
        "        self.max_len = max_len\n",
        "\n",
        "    def __len__(self):\n",
        "        return len(self.texts)\n",
        "\n",
        "    def __getitem__(self, idx):\n",
        "        text = str(self.texts[idx])\n",
        "        inputs = self.tokenizer.encode_plus(\n",
        "            text,\n",
        "            None,\n",
        "            add_special_tokens=True,\n",
        "            max_length=self.max_len,\n",
        "            truncation=True,\n",
        "            padding='max_length',\n",
        "            return_attention_mask=True,\n",
        "            return_tensors='pt'\n",
        "        )\n",
        "\n",
        "        return {\n",
        "            'input_ids': inputs['input_ids'].flatten(),\n",
        "            'attention_mask': inputs['attention_mask'].flatten(),\n",
        "            'labels': torch.tensor(self.labels[idx], dtype=torch.long)\n",
        "        }"
      ],
      "metadata": {
        "id": "qxcHfcr9yA-2"
      },
      "id": "qxcHfcr9yA-2",
      "execution_count": 55,
      "outputs": []
    },
    {
      "cell_type": "markdown",
      "source": [
        "Définition des données d'entrainement et de test"
      ],
      "metadata": {
        "id": "SewrT8gc2l_o"
      },
      "id": "SewrT8gc2l_o"
    },
    {
      "cell_type": "code",
      "source": [
        "X_train, X_test, y_train, y_test = train_test_split(data['OriginalTweet'], data['label'], test_size=0.2, random_state=42)\n",
        "\n",
        "train_dataset = CustomDataset(X_train.tolist(), y_train.tolist(), tokenizer)\n",
        "test_dataset = CustomDataset(X_test.tolist(), y_test.tolist(), tokenizer)\n",
        "\n",
        "train_loader = DataLoader(train_dataset, batch_size=16, shuffle=True)\n",
        "test_loader = DataLoader(test_dataset, batch_size=16)"
      ],
      "metadata": {
        "id": "OTdQsDtWyJqp"
      },
      "id": "OTdQsDtWyJqp",
      "execution_count": 56,
      "outputs": []
    },
    {
      "cell_type": "markdown",
      "source": [
        "Définition du model BERT à utiliser pour la classification"
      ],
      "metadata": {
        "id": "2hHNXDgt2yGF"
      },
      "id": "2hHNXDgt2yGF"
    },
    {
      "cell_type": "code",
      "source": [
        "from transformers import BertForSequenceClassification\n",
        "\n",
        "model = BertForSequenceClassification.from_pretrained('bert-base-uncased', num_labels=len(label_encoder.classes_))"
      ],
      "metadata": {
        "colab": {
          "base_uri": "https://localhost:8080/"
        },
        "id": "HW-KcvW8yMnv",
        "outputId": "283d68fc-9b01-447e-b14c-98bff7f285ff"
      },
      "id": "HW-KcvW8yMnv",
      "execution_count": 57,
      "outputs": [
        {
          "output_type": "stream",
          "name": "stderr",
          "text": [
            "Some weights of BertForSequenceClassification were not initialized from the model checkpoint at bert-base-uncased and are newly initialized: ['classifier.bias', 'classifier.weight']\n",
            "You should probably TRAIN this model on a down-stream task to be able to use it for predictions and inference.\n"
          ]
        }
      ]
    },
    {
      "cell_type": "code",
      "source": [
        "\n",
        "training_history = []\n",
        "\n",
        "device = torch.device(\"cuda\" if torch.cuda.is_available() else \"cpu\")\n",
        "model = model.to(device)\n",
        "\n",
        "optimizer = AdamW(model.parameters(), lr=2e-5)\n",
        "\n",
        "model.train()\n",
        "for epoch in range(3):  # nombre d'époques\n",
        "    total_loss = 0\n",
        "    for batch in tqdm(train_loader):\n",
        "        input_ids = batch['input_ids'].to(device)\n",
        "        attention_mask = batch['attention_mask'].to(device)\n",
        "        labels = batch['labels'].to(device)\n",
        "\n",
        "        outputs = model(input_ids=input_ids, attention_mask=attention_mask, labels=labels)\n",
        "        loss = outputs.loss\n",
        "        logits = outputs.logits\n",
        "\n",
        "        loss.backward()\n",
        "        optimizer.step()\n",
        "        optimizer.zero_grad()\n",
        "\n",
        "        total_loss += loss.item()\n",
        "        avg_loss_epoch = total_loss / len(train_loader)\n",
        "    print(f\"Epoch {epoch + 1}, Loss: {total_loss:.4f}\")\n",
        "    # Sauvegarde du modèle pour une éventuelle utilisation\n",
        "    model_save_path = f\"model.pt\"\n",
        "    torch.save(model.state_dict(), model_save_path)\n",
        "    print(f\"Modèle sauvegardé dans : {model_save_path}\")\n",
        "\n",
        "    # Sauvegarder l'optimiseur\n",
        "    optimizer_save_path = f\"optimizer.pt\"\n",
        "    torch.save(optimizer.state_dict(), optimizer_save_path)\n",
        "    print(f\"Optimiseur sauvegardé dans : {optimizer_save_path}\")\n",
        "\n",
        "print(\"\\nEntraînement terminé.\")\n"
      ],
      "metadata": {
        "colab": {
          "base_uri": "https://localhost:8080/"
        },
        "id": "rJHzwPzXyQdi",
        "outputId": "1f573eb7-e00c-4b7e-a928-87f4a5925d67"
      },
      "id": "rJHzwPzXyQdi",
      "execution_count": 58,
      "outputs": [
        {
          "metadata": {
            "tags": null
          },
          "name": "stderr",
          "output_type": "stream",
          "text": [
            "100%|██████████| 2058/2058 [11:57<00:00,  2.87it/s]\n"
          ]
        },
        {
          "metadata": {
            "tags": null
          },
          "name": "stdout",
          "output_type": "stream",
          "text": [
            "Epoch 1, Loss: 1713.4374\n",
            "Modèle sauvegardé dans : model.pt\n",
            "Optimiseur sauvegardé dans : optimizer.pt\n"
          ]
        },
        {
          "output_type": "stream",
          "name": "stderr",
          "text": [
            "100%|██████████| 2058/2058 [12:04<00:00,  2.84it/s]\n"
          ]
        },
        {
          "output_type": "stream",
          "name": "stdout",
          "text": [
            "Epoch 2, Loss: 970.0051\n",
            "Modèle sauvegardé dans : model.pt\n",
            "Optimiseur sauvegardé dans : optimizer.pt\n"
          ]
        },
        {
          "output_type": "stream",
          "name": "stderr",
          "text": [
            "100%|██████████| 2058/2058 [12:04<00:00,  2.84it/s]\n"
          ]
        },
        {
          "output_type": "stream",
          "name": "stdout",
          "text": [
            "Epoch 3, Loss: 681.3322\n",
            "Modèle sauvegardé dans : model.pt\n",
            "Optimiseur sauvegardé dans : optimizer.pt\n",
            "\n",
            "Entraînement terminé.\n"
          ]
        }
      ]
    },
    {
      "cell_type": "markdown",
      "source": [
        "Sauvegarde des informations sur la qualité du modèle"
      ],
      "metadata": {
        "id": "p0FBbars_Ai8"
      },
      "id": "p0FBbars_Ai8"
    },
    {
      "cell_type": "code",
      "source": [
        "model.eval()\n",
        "val_loss = 0\n",
        "preds = []\n",
        "true = []\n",
        "\n",
        "\n",
        "\n",
        "with torch.no_grad():\n",
        "    for batch in test_loader:\n",
        "        input_ids = batch['input_ids'].to(device)\n",
        "        attention_mask = batch['attention_mask'].to(device)\n",
        "        labels = batch['labels'].to(device)\n",
        "\n",
        "        outputs = model(input_ids=input_ids, attention_mask=attention_mask)\n",
        "        logits = outputs.logits\n",
        "        preds.extend(torch.argmax(logits, dim=1).cpu().numpy())\n",
        "        true.extend(labels.cpu().numpy())\n",
        "\n",
        "print(classification_report(true, preds, target_names=label_encoder.classes_))\n",
        "\n",
        "\n"
      ],
      "metadata": {
        "id": "SvJEOicX8ak8",
        "colab": {
          "base_uri": "https://localhost:8080/"
        },
        "outputId": "83ac843f-676d-48a3-a136-a214d3c3491b"
      },
      "id": "SvJEOicX8ak8",
      "execution_count": 59,
      "outputs": [
        {
          "output_type": "stream",
          "name": "stdout",
          "text": [
            "                    precision    recall  f1-score   support\n",
            "\n",
            "Extremely Negative       0.78      0.90      0.83      1056\n",
            "Extremely Positive       0.76      0.79      0.77      2006\n",
            "          Negative       0.92      0.81      0.86      1553\n",
            "           Neutral       0.84      0.76      0.80      2287\n",
            "          Positive       0.83      0.90      0.86      1330\n",
            "\n",
            "          accuracy                           0.82      8232\n",
            "         macro avg       0.82      0.83      0.83      8232\n",
            "      weighted avg       0.82      0.82      0.82      8232\n",
            "\n"
          ]
        }
      ]
    },
    {
      "cell_type": "code",
      "source": [
        "pip install fpdf"
      ],
      "metadata": {
        "id": "EzWgQUYXad4q"
      },
      "id": "EzWgQUYXad4q",
      "execution_count": null,
      "outputs": []
    },
    {
      "cell_type": "markdown",
      "source": [
        "Enregistrement du rapport de classification en pdf"
      ],
      "metadata": {
        "id": "qlTmV8arao6y"
      },
      "id": "qlTmV8arao6y"
    },
    {
      "cell_type": "code",
      "source": [
        "from fpdf import FPDF\n",
        "\n",
        "report_text = classification_report(true, preds, target_names=label_encoder.classes_)\n",
        "\n",
        "# Affiche dans la console\n",
        "print(report_text)\n",
        "\n",
        "# Enregistrement dans un PDF\n",
        "pdf = FPDF()\n",
        "pdf.add_page()\n",
        "pdf.set_font(\"Arial\", size=12)\n",
        "\n",
        "# Pour découper le texte ligne par ligne\n",
        "for line in report_text.split('\\n'):\n",
        "    pdf.cell(200, 10, txt=line.strip(), ln=True)\n",
        "\n",
        "# Enregistrement final\n",
        "pdf.output(\"classification_report.pdf\")\n",
        "print(\"✅ Rapport enregistré dans 'classification_report.pdf'\")"
      ],
      "metadata": {
        "colab": {
          "base_uri": "https://localhost:8080/"
        },
        "id": "6cdvPJ8oaW0k",
        "outputId": "2e1509e0-f06c-431c-d436-e7167ed2bed4"
      },
      "id": "6cdvPJ8oaW0k",
      "execution_count": 61,
      "outputs": [
        {
          "metadata": {
            "tags": null
          },
          "name": "stdout",
          "output_type": "stream",
          "text": [
            "                    precision    recall  f1-score   support\n",
            "\n",
            "Extremely Negative       0.78      0.90      0.83      1056\n",
            "Extremely Positive       0.76      0.79      0.77      2006\n",
            "          Negative       0.92      0.81      0.86      1553\n",
            "           Neutral       0.84      0.76      0.80      2287\n",
            "          Positive       0.83      0.90      0.86      1330\n",
            "\n",
            "          accuracy                           0.82      8232\n",
            "         macro avg       0.82      0.83      0.83      8232\n",
            "      weighted avg       0.82      0.82      0.82      8232\n",
            "\n",
            "✅ Rapport enregistré dans 'classification_report.pdf'\n"
          ]
        }
      ]
    }
  ],
  "metadata": {
    "kernelspec": {
      "display_name": "Python 3",
      "name": "python3"
    },
    "language_info": {
      "codemirror_mode": {
        "name": "ipython",
        "version": 3
      },
      "file_extension": ".py",
      "mimetype": "text/x-python",
      "name": "python",
      "nbconvert_exporter": "python",
      "pygments_lexer": "ipython3",
      "version": "3.13.3"
    },
    "colab": {
      "provenance": [],
      "gpuType": "T4"
    },
    "accelerator": "GPU"
  },
  "nbformat": 4,
  "nbformat_minor": 5
}